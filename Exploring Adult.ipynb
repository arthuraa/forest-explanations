{
 "cells": [
  {
   "cell_type": "code",
   "execution_count": 1,
   "metadata": {
    "scrolled": true
   },
   "outputs": [],
   "source": [
    "# Exploring the adult data set from the UCI repository.\n",
    "# Download the files adult.data and adult.test\n",
    "# from https://archive.ics.uci.edu/ml/machine-learning-databases/adult/\n",
    "import matplotlib.pyplot as plt"
   ]
  },
  {
   "cell_type": "code",
   "execution_count": 2,
   "metadata": {
    "scrolled": true
   },
   "outputs": [],
   "source": [
    "from __future__ import print_function\n",
    "import pandas as pd\n",
    "import ipywidgets as widgets\n",
    "import numpy as np\n",
    "import adult\n",
    "import sklearn\n",
    "from sklearn.model_selection import train_test_split\n",
    "from sklearn.preprocessing import OneHotEncoder, LabelEncoder\n",
    "from sklearn.ensemble import RandomForestClassifier\n",
    "from forest_clusters import ForestClusters, buckets, total_variation\n",
    "\n",
    "original = adult.original\n",
    "categorical = [col for col in original.columns \n",
    "               if ~np.issubdtype(original[col], np.number)]\n",
    "original[categorical] = original[categorical].fillna(value = 'None')"
   ]
  },
  {
   "cell_type": "code",
   "execution_count": 3,
   "metadata": {
    "scrolled": false
   },
   "outputs": [
    {
     "name": "stderr",
     "output_type": "stream",
     "text": [
      "/home/arthur/env/lib/python3.5/site-packages/sklearn/model_selection/_split.py:2026: FutureWarning: From version 0.21, test_size will always complement train_size unless both are specified.\n",
      "  FutureWarning)\n"
     ]
    },
    {
     "name": "stdout",
     "output_type": "stream",
     "text": [
      "Score 0.849519\n"
     ]
    }
   ],
   "source": [
    "X = pd.get_dummies(original[original.columns.difference(['Target'])])\n",
    "\n",
    "def encode_features(original):\n",
    "    return X.loc[original.index]\n",
    "\n",
    "y = adult.labels\n",
    "\n",
    "original_train, original_test, X_train, X_test, y_train, y_test = train_test_split(original, X, y, train_size=0.7)\n",
    "\n",
    "forest = RandomForestClassifier(n_estimators = 10, max_depth = 10)\n",
    "forest = forest.fit(X_train, y_train)\n",
    "print(\"Score %f\" % forest.score(X_test, y_test))\n",
    "\n",
    "leaf_encoder = OneHotEncoder()\n",
    "leaf_encoder = leaf_encoder.fit(forest.apply(X))"
   ]
  },
  {
   "cell_type": "code",
   "execution_count": 4,
   "metadata": {
    "scrolled": true
   },
   "outputs": [],
   "source": [
    "n_clusters = 30\n",
    "c = ForestClusters(forest, leaf_encoder, n_clusters = n_clusters)\n",
    "c.fit(X_train.sample(n = 1000))"
   ]
  },
  {
   "cell_type": "code",
   "execution_count": 118,
   "metadata": {},
   "outputs": [],
   "source": [
    "from itertools import permutations\n",
    "\n",
    "def cluster_distance(c1, c2):\n",
    "    n_clusters = c1.kmeans.n_clusters\n",
    "    points = X.sample(n = 100)\n",
    "    def permutation_distance(pi):\n",
    "        p1 = c1.predict(points)\n",
    "        p2 = np.vectorize(lambda k: pi[k])(c2.predict(points))\n",
    "        return (p1 != p2).mean()\n",
    "    return min(permutation_distance(pi)\n",
    "               for pi in permutations(range(n_clusters)))\n",
    "\n",
    "import operator\n",
    "\n",
    "def greedy_cluster_distance(c1, c2):\n",
    "    n_clusters = c1.kmeans.n_clusters\n",
    "    n_points = 100\n",
    "    points = X.sample(n = n_points)\n",
    "    weights = {(i, j): sum(np.logical_and(c1.predict(points) == i, \n",
    "                                          c2.predict(points) == j))\n",
    "               for i in range(n_clusters) for j in range(n_clusters)}\n",
    "    total_weight = n_points\n",
    "    while len(weights) != 0:\n",
    "        ((i, j), weight) = max(weights.items(), key=operator.itemgetter(1))\n",
    "        total_weight = total_weight - weight\n",
    "        weights = {(ii, jj): v for (ii, jj), v in weights.items() if ii != i and jj != j}\n",
    "    return total_weight / n_points\n",
    "\n",
    "def instability(n, samples):\n",
    "    def it():\n",
    "        c1 = ForestClusters(forest, leaf_encoder, n_clusters = n)\n",
    "        c1.fit(X_train.sample(n = 100))\n",
    "        c2 = ForestClusters(forest, leaf_encoder, n_clusters = n)\n",
    "        c2.fit(X_train.sample(n = 100))\n",
    "        return cluster_distance(c1, c2)\n",
    "    return np.array([it() for k in range(samples)]).mean()\n",
    "\n",
    "def greedy_instability(n, samples):\n",
    "    def it():\n",
    "        c1 = ForestClusters(forest, leaf_encoder, n_clusters = n)\n",
    "        c1.fit(X_train.sample(n = 100))\n",
    "        c2 = ForestClusters(forest, leaf_encoder, n_clusters = n)\n",
    "        c2.fit(X_train.sample(n = 100))\n",
    "        return greedy_cluster_distance(c1, c2)\n",
    "    return np.array([it() for k in range(samples)]).mean()"
   ]
  },
  {
   "cell_type": "code",
   "execution_count": 130,
   "metadata": {},
   "outputs": [
    {
     "name": "stdout",
     "output_type": "stream",
     "text": [
      "20 | 0.440\n"
     ]
    }
   ],
   "source": [
    "for i in range(20, 21):\n",
    "    print(\"%d | %0.3f\" % (i, greedy_instability(i, 15)))"
   ]
  },
  {
   "cell_type": "code",
   "execution_count": 87,
   "metadata": {},
   "outputs": [
    {
     "data": {
      "text/plain": [
       "0.28800000000000003"
      ]
     },
     "execution_count": 87,
     "metadata": {},
     "output_type": "execute_result"
    }
   ],
   "source": [
    "instability(6, 15)"
   ]
  },
  {
   "cell_type": "code",
   "execution_count": 89,
   "metadata": {},
   "outputs": [
    {
     "data": {
      "text/plain": [
       "0.38466666666666666"
      ]
     },
     "execution_count": 89,
     "metadata": {},
     "output_type": "execute_result"
    }
   ],
   "source": [
    "instability(8, 15)"
   ]
  },
  {
   "cell_type": "code",
   "execution_count": null,
   "metadata": {},
   "outputs": [],
   "source": []
  },
  {
   "cell_type": "code",
   "execution_count": 18,
   "metadata": {
    "scrolled": false
   },
   "outputs": [
    {
     "data": {
      "text/html": [
       "<div>\n",
       "<style scoped>\n",
       "    .dataframe tbody tr th:only-of-type {\n",
       "        vertical-align: middle;\n",
       "    }\n",
       "\n",
       "    .dataframe tbody tr th {\n",
       "        vertical-align: top;\n",
       "    }\n",
       "\n",
       "    .dataframe thead th {\n",
       "        text-align: right;\n",
       "    }\n",
       "</style>\n",
       "<table border=\"1\" class=\"dataframe\">\n",
       "  <thead>\n",
       "    <tr style=\"text-align: right;\">\n",
       "      <th></th>\n",
       "      <th>Size</th>\n",
       "      <th>Accuracy</th>\n",
       "      <th>Mean Votes</th>\n",
       "    </tr>\n",
       "  </thead>\n",
       "  <tbody>\n",
       "    <tr>\n",
       "      <th>0</th>\n",
       "      <td>10953</td>\n",
       "      <td>0.800055</td>\n",
       "      <td>8.457683</td>\n",
       "    </tr>\n",
       "    <tr>\n",
       "      <th>1</th>\n",
       "      <td>410</td>\n",
       "      <td>1.000000</td>\n",
       "      <td>0.039024</td>\n",
       "    </tr>\n",
       "    <tr>\n",
       "      <th>2</th>\n",
       "      <td>362</td>\n",
       "      <td>0.997238</td>\n",
       "      <td>29.198895</td>\n",
       "    </tr>\n",
       "    <tr>\n",
       "      <th>3</th>\n",
       "      <td>134</td>\n",
       "      <td>1.000000</td>\n",
       "      <td>0.149254</td>\n",
       "    </tr>\n",
       "    <tr>\n",
       "      <th>4</th>\n",
       "      <td>98</td>\n",
       "      <td>0.989796</td>\n",
       "      <td>0.377551</td>\n",
       "    </tr>\n",
       "    <tr>\n",
       "      <th>5</th>\n",
       "      <td>152</td>\n",
       "      <td>1.000000</td>\n",
       "      <td>0.401316</td>\n",
       "    </tr>\n",
       "    <tr>\n",
       "      <th>6</th>\n",
       "      <td>31</td>\n",
       "      <td>1.000000</td>\n",
       "      <td>0.709677</td>\n",
       "    </tr>\n",
       "    <tr>\n",
       "      <th>7</th>\n",
       "      <td>113</td>\n",
       "      <td>0.991150</td>\n",
       "      <td>0.168142</td>\n",
       "    </tr>\n",
       "    <tr>\n",
       "      <th>8</th>\n",
       "      <td>407</td>\n",
       "      <td>0.990172</td>\n",
       "      <td>0.152334</td>\n",
       "    </tr>\n",
       "    <tr>\n",
       "      <th>9</th>\n",
       "      <td>81</td>\n",
       "      <td>1.000000</td>\n",
       "      <td>0.234568</td>\n",
       "    </tr>\n",
       "    <tr>\n",
       "      <th>10</th>\n",
       "      <td>2</td>\n",
       "      <td>1.000000</td>\n",
       "      <td>16.000000</td>\n",
       "    </tr>\n",
       "    <tr>\n",
       "      <th>11</th>\n",
       "      <td>76</td>\n",
       "      <td>1.000000</td>\n",
       "      <td>0.000000</td>\n",
       "    </tr>\n",
       "    <tr>\n",
       "      <th>12</th>\n",
       "      <td>130</td>\n",
       "      <td>1.000000</td>\n",
       "      <td>0.030769</td>\n",
       "    </tr>\n",
       "    <tr>\n",
       "      <th>13</th>\n",
       "      <td>8</td>\n",
       "      <td>0.875000</td>\n",
       "      <td>0.000000</td>\n",
       "    </tr>\n",
       "    <tr>\n",
       "      <th>14</th>\n",
       "      <td>127</td>\n",
       "      <td>1.000000</td>\n",
       "      <td>0.133858</td>\n",
       "    </tr>\n",
       "    <tr>\n",
       "      <th>15</th>\n",
       "      <td>162</td>\n",
       "      <td>1.000000</td>\n",
       "      <td>0.006173</td>\n",
       "    </tr>\n",
       "    <tr>\n",
       "      <th>16</th>\n",
       "      <td>157</td>\n",
       "      <td>1.000000</td>\n",
       "      <td>0.076433</td>\n",
       "    </tr>\n",
       "    <tr>\n",
       "      <th>17</th>\n",
       "      <td>35</td>\n",
       "      <td>1.000000</td>\n",
       "      <td>0.485714</td>\n",
       "    </tr>\n",
       "    <tr>\n",
       "      <th>18</th>\n",
       "      <td>169</td>\n",
       "      <td>0.988166</td>\n",
       "      <td>0.189349</td>\n",
       "    </tr>\n",
       "    <tr>\n",
       "      <th>19</th>\n",
       "      <td>55</td>\n",
       "      <td>1.000000</td>\n",
       "      <td>0.127273</td>\n",
       "    </tr>\n",
       "    <tr>\n",
       "      <th>20</th>\n",
       "      <td>58</td>\n",
       "      <td>0.982759</td>\n",
       "      <td>0.034483</td>\n",
       "    </tr>\n",
       "    <tr>\n",
       "      <th>21</th>\n",
       "      <td>41</td>\n",
       "      <td>1.000000</td>\n",
       "      <td>0.121951</td>\n",
       "    </tr>\n",
       "    <tr>\n",
       "      <th>22</th>\n",
       "      <td>180</td>\n",
       "      <td>1.000000</td>\n",
       "      <td>0.011111</td>\n",
       "    </tr>\n",
       "    <tr>\n",
       "      <th>23</th>\n",
       "      <td>247</td>\n",
       "      <td>1.000000</td>\n",
       "      <td>0.000000</td>\n",
       "    </tr>\n",
       "    <tr>\n",
       "      <th>24</th>\n",
       "      <td>9</td>\n",
       "      <td>0.777778</td>\n",
       "      <td>27.666667</td>\n",
       "    </tr>\n",
       "    <tr>\n",
       "      <th>25</th>\n",
       "      <td>113</td>\n",
       "      <td>1.000000</td>\n",
       "      <td>0.026549</td>\n",
       "    </tr>\n",
       "    <tr>\n",
       "      <th>26</th>\n",
       "      <td>88</td>\n",
       "      <td>0.988636</td>\n",
       "      <td>0.068182</td>\n",
       "    </tr>\n",
       "    <tr>\n",
       "      <th>27</th>\n",
       "      <td>38</td>\n",
       "      <td>1.000000</td>\n",
       "      <td>0.315789</td>\n",
       "    </tr>\n",
       "    <tr>\n",
       "      <th>28</th>\n",
       "      <td>215</td>\n",
       "      <td>0.995349</td>\n",
       "      <td>0.093023</td>\n",
       "    </tr>\n",
       "    <tr>\n",
       "      <th>29</th>\n",
       "      <td>2</td>\n",
       "      <td>1.000000</td>\n",
       "      <td>3.000000</td>\n",
       "    </tr>\n",
       "  </tbody>\n",
       "</table>\n",
       "</div>"
      ],
      "text/plain": [
       "     Size  Accuracy  Mean Votes\n",
       "0   10953  0.800055    8.457683\n",
       "1     410  1.000000    0.039024\n",
       "2     362  0.997238   29.198895\n",
       "3     134  1.000000    0.149254\n",
       "4      98  0.989796    0.377551\n",
       "5     152  1.000000    0.401316\n",
       "6      31  1.000000    0.709677\n",
       "7     113  0.991150    0.168142\n",
       "8     407  0.990172    0.152334\n",
       "9      81  1.000000    0.234568\n",
       "10      2  1.000000   16.000000\n",
       "11     76  1.000000    0.000000\n",
       "12    130  1.000000    0.030769\n",
       "13      8  0.875000    0.000000\n",
       "14    127  1.000000    0.133858\n",
       "15    162  1.000000    0.006173\n",
       "16    157  1.000000    0.076433\n",
       "17     35  1.000000    0.485714\n",
       "18    169  0.988166    0.189349\n",
       "19     55  1.000000    0.127273\n",
       "20     58  0.982759    0.034483\n",
       "21     41  1.000000    0.121951\n",
       "22    180  1.000000    0.011111\n",
       "23    247  1.000000    0.000000\n",
       "24      9  0.777778   27.666667\n",
       "25    113  1.000000    0.026549\n",
       "26     88  0.988636    0.068182\n",
       "27     38  1.000000    0.315789\n",
       "28    215  0.995349    0.093023\n",
       "29      2  1.000000    3.000000"
      ]
     },
     "metadata": {},
     "output_type": "display_data"
    },
    {
     "data": {
      "application/vnd.jupyter.widget-view+json": {
       "model_id": "e05172f914914d549e453bdee583cb07",
       "version_major": 2,
       "version_minor": 0
      },
      "text/plain": [
       "interactive(children=(BoundedIntText(value=0, description='Cluster', max=30), Dropdown(description='Column', o…"
      ]
     },
     "metadata": {},
     "output_type": "display_data"
    }
   ],
   "source": [
    "from display_cluster import display_cluster\n",
    "display_cluster(c, original, original_test, y_test,\n",
    "                encode_features=encode_features)"
   ]
  },
  {
   "cell_type": "code",
   "execution_count": 6,
   "metadata": {
    "scrolled": false
   },
   "outputs": [
    {
     "data": {
      "text/plain": [
       "10     0.216952\n",
       "71     0.091927\n",
       "332    0.082304\n",
       "31     0.059374\n",
       "436    0.047158\n",
       "70     0.045178\n",
       "333    0.031666\n",
       "64     0.027435\n",
       "38     0.027230\n",
       "155    0.027093\n",
       "156    0.021088\n",
       "13     0.018631\n",
       "294    0.017812\n",
       "345    0.015833\n",
       "147    0.014809\n",
       "77     0.012284\n",
       "136    0.012079\n",
       "133    0.011943\n",
       "483    0.011738\n",
       "105    0.010237\n",
       "108    0.009145\n",
       "218    0.008189\n",
       "201    0.007439\n",
       "129    0.007371\n",
       "137    0.007371\n",
       "152    0.007098\n",
       "225    0.006483\n",
       "287    0.005664\n",
       "379    0.005323\n",
       "477    0.005323\n",
       "         ...   \n",
       "113    0.000068\n",
       "278    0.000068\n",
       "276    0.000068\n",
       "316    0.000068\n",
       "356    0.000068\n",
       "427    0.000068\n",
       "403    0.000068\n",
       "395    0.000068\n",
       "428    0.000068\n",
       "347    0.000068\n",
       "307    0.000068\n",
       "267    0.000068\n",
       "21     0.000068\n",
       "53     0.000068\n",
       "187    0.000068\n",
       "109    0.000068\n",
       "506    0.000068\n",
       "490    0.000068\n",
       "450    0.000068\n",
       "258    0.000068\n",
       "261    0.000068\n",
       "365    0.000068\n",
       "373    0.000068\n",
       "485    0.000068\n",
       "228    0.000068\n",
       "14     0.000068\n",
       "62     0.000068\n",
       "166    0.000068\n",
       "262    0.000068\n",
       "501    0.000068\n",
       "Length: 193, dtype: float64"
      ]
     },
     "metadata": {},
     "output_type": "display_data"
    },
    {
     "data": {
      "text/plain": [
       "71     0.695833\n",
       "155    0.129167\n",
       "156    0.062500\n",
       "152    0.041667\n",
       "136    0.033333\n",
       "137    0.012500\n",
       "96     0.008333\n",
       "73     0.004167\n",
       "70     0.004167\n",
       "64     0.004167\n",
       "61     0.004167\n",
       "dtype: float64"
      ]
     },
     "metadata": {},
     "output_type": "display_data"
    },
    {
     "data": {
      "text/plain": [
       "10     0.825822\n",
       "133    0.048721\n",
       "129    0.046285\n",
       "13     0.036541\n",
       "147    0.020706\n",
       "39     0.020706\n",
       "42     0.001218\n",
       "dtype: float64"
      ]
     },
     "metadata": {},
     "output_type": "display_data"
    },
    {
     "data": {
      "image/png": "[encoded data removed]",
      "text/plain": [
       "<Figure size 360x360 with 1 Axes>"
      ]
     },
     "metadata": {},
     "output_type": "display_data"
    },
    {
     "data": {
      "image/png": "[encoded data removed]",
      "text/plain": [
       "<Figure size 360x360 with 1 Axes>"
      ]
     },
     "metadata": {},
     "output_type": "display_data"
    },
    {
     "data": {
      "image/png": "[encoded data removed]",
      "text/plain": [
       "<Figure size 432x288 with 1 Axes>"
      ]
     },
     "metadata": {},
     "output_type": "display_data"
    }
   ],
   "source": [
    "def compare_paths(tree, clusters):\n",
    "    fig, ax = plt.subplots()\n",
    "    test_leaves = forest.apply(X_test)\n",
    "    test_clusters = c.kmeans.predict(leaf_encoder.transform(test_leaves))\n",
    "    leaves_general = test_leaves[:,tree]\n",
    "    leaves_clusters = [test_leaves[test_clusters == c, tree] for c in clusters]\n",
    "    ax.hist([leaves_general] + leaves_clusters, density = True,\n",
    "             label = ['General'] + ['Cluster %d' % c for c in clusters])\n",
    "    ax.legend()\n",
    "    display(pd.Series(leaves_general).value_counts(normalize = True))\n",
    "    for leaves in leaves_clusters:\n",
    "        display(pd.Series(leaves).value_counts(normalize = True))\n",
    "        \n",
    "compare_paths(2, [1, 2])"
   ]
  },
  {
   "cell_type": "code",
   "execution_count": 7,
   "metadata": {
    "scrolled": true
   },
   "outputs": [],
   "source": [
    "from sklearn.tree import export_graphviz\n",
    "import graphviz\n",
    "\n",
    "dot_data = export_graphviz(forest.estimators_[1], \n",
    "                           feature_names = X_test.columns,\n",
    "                           out_file = None, filled = True, rounded = True, node_ids = True)\n",
    "graph = graphviz.Source(dot_data)\n",
    "# graph"
   ]
  },
  {
   "cell_type": "code",
   "execution_count": 8,
   "metadata": {
    "scrolled": true
   },
   "outputs": [],
   "source": [
    "def build_path(tree, feature_names, node):\n",
    "    path = []\n",
    "    first_node = node\n",
    "    direction = None\n",
    "    while node != 0:\n",
    "        path = [(node, direction)] + path\n",
    "        right_idx = np.where(tree.children_right == node)[0]\n",
    "        left_idx  = np.where(tree.children_left  == node)[0]\n",
    "        if len(right_idx) != 0:\n",
    "            node = right_idx[0]\n",
    "            direction = 'right'\n",
    "        else: # The node must be a left child\n",
    "            node = left_idx[0]\n",
    "            direction = 'left'\n",
    "    path = [(0, direction)] + path\n",
    "    for node in path:\n",
    "        if node[0] != first_node:\n",
    "            node_info = (feature_names[tree.feature[node[0]]], tree.threshold[node[0]])\n",
    "            if node[1] == 'left':\n",
    "                print(\"%s < %0.3f\" % node_info)\n",
    "            else:\n",
    "                print(\"%s >= %0.3f\" % node_info)"
   ]
  },
  {
   "cell_type": "code",
   "execution_count": 9,
   "metadata": {
    "scrolled": true
   },
   "outputs": [
    {
     "name": "stdout",
     "output_type": "stream",
     "text": [
      "Path 32, proportion 0.939\n",
      "Occupation_Priv-house-serv < 0.500\n",
      "Sex_Female < 0.500\n",
      "Martial Status_Never-married < 0.500\n",
      "Education-Num < 12.500\n",
      "Occupation_Handlers-cleaners < 0.500\n",
      "Martial Status_Divorced < 0.500\n",
      "Relationship_Husband >= 0.500\n",
      "Education-Num >= 8.500\n",
      "Race_Amer-Indian-Eskimo < 0.500\n",
      "Country_Mexico < 0.500\n"
     ]
    }
   ],
   "source": [
    "def influential_path(tree, rank, cluster):\n",
    "    test_leaves = forest.apply(X_test)\n",
    "    test_clusters = c.kmeans.predict(leaf_encoder.transform(test_leaves))\n",
    "    leaves_cluster = pd.Series(test_leaves[test_clusters == cluster, tree]).value_counts(normalize = True)\n",
    "    node = leaves_cluster.index[rank]\n",
    "    proportion = leaves_cluster.iloc[rank]\n",
    "    print(\"Path %d, proportion %.03f\" % (node, proportion))\n",
    "    build_path(forest.estimators_[tree].tree_, X_test.columns, node)\n",
    "\n",
    "influential_path(7, 0, 6)"
   ]
  },
  {
   "cell_type": "code",
   "execution_count": 10,
   "metadata": {},
   "outputs": [
    {
     "data": {
      "text/plain": [
       "(0, 557)"
      ]
     },
     "execution_count": 10,
     "metadata": {},
     "output_type": "execute_result"
    }
   ],
   "source": [
    "test_leaves = forest.apply(X_test)\n",
    "test_clusters = c.kmeans.predict(leaf_encoder.transform(test_leaves))\n",
    "(sum(test_leaves[:,6] == 52), sum(test_clusters == 6))\n",
    "(sum(test_leaves[:,7] == 345), sum(test_clusters == 6))"
   ]
  },
  {
   "cell_type": "code",
   "execution_count": null,
   "metadata": {},
   "outputs": [],
   "source": []
  }
 ],
 "metadata": {
  "kernelspec": {
   "display_name": "Python 3",
   "language": "python",
   "name": "python3"
  },
  "language_info": {
   "codemirror_mode": {
    "name": "ipython",
    "version": 3
   },
   "file_extension": ".py",
   "mimetype": "text/x-python",
   "name": "python",
   "nbconvert_exporter": "python",
   "pygments_lexer": "ipython3",
   "version": "3.5.2"
  }
 },
 "nbformat": 4,
 "nbformat_minor": 2
}
