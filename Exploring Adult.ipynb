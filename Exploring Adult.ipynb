{
 "cells": [
  {
   "cell_type": "code",
   "execution_count": 1,
   "metadata": {},
   "outputs": [
    {
     "data": {
      "text/html": [
       "<style>.container { width:100% !important; }</style>"
      ],
      "text/plain": [
       "<IPython.core.display.HTML object>"
      ]
     },
     "metadata": {},
     "output_type": "display_data"
    }
   ],
   "source": [
    "# Exploring the adult data set from the UCI repository.\n",
    "# Download the files adult.data and adult.test\n",
    "# from https://archive.ics.uci.edu/ml/machine-learning-databases/adult/\n",
    "\n",
    "from __future__ import print_function\n",
    "\n",
    "from IPython.core.display import display, HTML\n",
    "display(HTML(\"<style>.container { width:100% !important; }</style>\"))\n",
    "\n",
    "%matplotlib inline\n",
    "\n",
    "import matplotlib.pyplot as plt\n",
    "import pandas as pd\n",
    "import ipywidgets as widgets\n",
    "import numpy as np\n",
    "import adult\n",
    "import sklearn\n",
    "from sklearn.model_selection import train_test_split\n",
    "from sklearn.preprocessing import LabelEncoder, OneHotEncoder\n",
    "from sklearn.ensemble import RandomForestClassifier, GradientBoostingClassifier\n",
    "from forest_clusters import ForestClusters, buckets, total_variation\n",
    "from display_cluster import display_cluster, CompressedForest\n",
    "from category_encoders.one_hot import OneHotEncoder as CEOneHotEncoder"
   ]
  },
  {
   "cell_type": "code",
   "execution_count": 2,
   "metadata": {},
   "outputs": [],
   "source": [
    "# First, let's import the adult data set and clean it up\n",
    "\n",
    "original = adult.original\n",
    "categorical = [col for col in original.columns \n",
    "               if not np.issubdtype(original[col].dtype, np.number)]\n",
    "original[categorical] = original[categorical].fillna(value = 'None')\n",
    "# Make sex a boolean feature\n",
    "original = original.assign(male = original['sex'] == 'Male')\n",
    "original = original[original.columns.difference(['sex'])]\n",
    "                                                 \n",
    "sanitized = original[original.columns.difference(['target'])]\n",
    "# sanitized = sanitized.assign(Workclass = sanitized['Workclass'].replace(['Without-pay'], value='None'))\n",
    "# sanitized = sanitized.assign(Relationship = sanitized['Relationship'].replace(['Husband', 'Wife'], value = 'Spouse'))\n",
    "# sanitized = sanitized[sanitized.columns.difference(['Capital Gain', 'Capital Loss', 'Education-Num'])] # Removing important features\n",
    "# sanitized = sanitized[sanitized.columns.difference(['Marital Status', 'Relationship'])] # Removing important features\n",
    "# sanitized = sanitized[sanitized.columns.difference(['Occupation', 'Workclass', 'Hours per week'])] # Removing important features\n",
    "# sanitized = sanitized[sanitized.columns.difference(['Race', 'Male', 'Age'])] # Removing important features\n",
    "# sanitized = sanitized[sanitized.columns.difference(['Country'])] # Removing important features\n",
    "enc = CEOneHotEncoder(use_cat_names = True, handle_unknown =  'ignore').fit(sanitized)\n",
    "                                                 \n",
    "X = enc.transform(sanitized)\n",
    "y = adult.labels"
   ]
  },
  {
   "cell_type": "code",
   "execution_count": 3,
   "metadata": {},
   "outputs": [
    {
     "name": "stderr",
     "output_type": "stream",
     "text": [
      "/home/arthur/python-envs/explanations/lib/python3.6/site-packages/sklearn/model_selection/_split.py:2179: FutureWarning: From version 0.21, test_size will always complement train_size unless both are specified.\n",
      "  FutureWarning)\n"
     ]
    },
    {
     "name": "stdout",
     "output_type": "stream",
     "text": [
      "Mean 0.239282\n",
      "Train score 0.878336\n",
      "Test score 0.872876\n"
     ]
    }
   ],
   "source": [
    "# Train a boosting model for binary classification.\n",
    "# The model is a set of decision trees. Given a point, each tree\n",
    "# outputs a score that counts towards the point's probability of\n",
    "# belonging in the positive class.\n",
    "\n",
    "original_train, original_test, X_train, X_test, y_train, y_test = train_test_split(original, X, y, test_size = 0.1)\n",
    "\n",
    "from xgboost import XGBClassifier\n",
    "\n",
    "n_estimators = 1200\n",
    "\n",
    "boost = GradientBoostingClassifier(n_estimators = n_estimators, max_depth = 2, min_samples_leaf = 100).fit(X_train, y_train)\n",
    "print(\"Mean %f\" % y.mean())\n",
    "print(\"Train score %f\" % boost.score(X_train, y_train))\n",
    "print(\"Test score %f\" % boost.score(X_test, y_test))"
   ]
  },
  {
   "cell_type": "code",
   "execution_count": 11,
   "metadata": {},
   "outputs": [
    {
     "name": "stdout",
     "output_type": "stream",
     "text": [
      "Train 0.8412767022317265\n",
      "Test 0.8474923234390993\n"
     ]
    }
   ],
   "source": [
    "from sklearn.linear_model import LogisticRegression\n",
    "X2 = X[['marital_status_Married-civ-spouse', 'age', 'capital_gain', 'capital_loss', 'education_num']]\n",
    "X2_train, X2_test, y2_train, y2_test = train_test_split(X2, y, test_size = 0.1)\n",
    "m = LogisticRegression(C = 1.5, solver = 'lbfgs').fit(X2_train, y2_train)\n",
    "print('Train', m.score(X2_train, y2_train))\n",
    "print('Test', m.score(X2_test, y2_test))"
   ]
  },
  {
   "cell_type": "code",
   "execution_count": 13,
   "metadata": {
    "scrolled": false
   },
   "outputs": [
    {
     "data": {
      "text/plain": [
       "<48842x4714 sparse matrix of type '<class 'numpy.float64'>'\n",
       "\twith 58610400 stored elements in Compressed Sparse Row format>"
      ]
     },
     "execution_count": 13,
     "metadata": {},
     "output_type": "execute_result"
    }
   ],
   "source": [
    "# We work with data points in a transformed space of tree paths.\n",
    "# Given a point, we compute the vector of leaf nodes that the point\n",
    "# reached on each tree, under a one-hot encoding.\n",
    "# Each leaf corresponds uniquely to a path traversed in the tree.\n",
    "\n",
    "leaves = boost.apply(X).reshape(len(X), n_estimators)\n",
    "leaf_encoder = OneHotEncoder(categories = 'auto').fit(leaves)\n",
    "leaf_encoder.transform(leaves)"
   ]
  },
  {
   "cell_type": "code",
   "execution_count": 14,
   "metadata": {
    "scrolled": false
   },
   "outputs": [],
   "source": [
    "# We can cluster these points using the scores assigned by each\n",
    "# tree in the model, running PCA first to reduce the dimension.\n",
    "\n",
    "n_clusters = 7\n",
    "from sklearn.cluster import AgglomerativeClustering\n",
    "from sklearn.cluster import KMeans\n",
    "from sklearn.cluster import DBSCAN\n",
    "from sklearn.decomposition import TruncatedSVD\n",
    "\n",
    "X_enc = np.array([boost.estimators_[k, 0].predict(X) for k in range(boost.n_estimators)]).transpose()\n",
    "X_pca = TruncatedSVD(n_components = 10).fit_transform(X_enc)\n",
    "X_enc = X_pca # Comment this line to disable PCA\n",
    "clustering = KMeans(n_clusters = n_clusters).fit(X_pca)\n",
    "clusters = clustering.predict(X_pca)"
   ]
  },
  {
   "cell_type": "code",
   "execution_count": 16,
   "metadata": {},
   "outputs": [
    {
     "data": {
      "text/plain": [
       "<matplotlib.legend.Legend at 0x7f9f36d68780>"
      ]
     },
     "execution_count": 16,
     "metadata": {},
     "output_type": "execute_result"
    },
    {
     "data": {
      "text/plain": [
       "<Figure size 480x480 with 0 Axes>"
      ]
     },
     "metadata": {},
     "output_type": "display_data"
    },
    {
     "data": {
      "image/png": "[encoded data removed]",
      "text/plain": [
       "<Figure size 432x288 with 1 Axes>"
      ]
     },
     "metadata": {
      "needs_background": "light"
     },
     "output_type": "display_data"
    }
   ],
   "source": [
    "# Here is the result of running PCA on the encoded points\n",
    "\n",
    "my_dpi=96\n",
    "plt.figure(figsize=(480/my_dpi, 480/my_dpi), dpi=my_dpi)\n",
    "\n",
    "from mpl_toolkits.mplot3d import axes3d, Axes3D\n",
    " \n",
    "# Store results of PCA in a data frame\n",
    "result=pd.DataFrame(X_pca[:,range(3)], columns=['PCA%i' % i for i in range(3)])\n",
    " \n",
    "# Plot initialisation\n",
    "fig = plt.figure()\n",
    "ax = Axes3D(fig)\n",
    "\n",
    "colors = ['orange', 'cyan', 'red', 'green', 'navy', 'teal', 'pink', 'yellow', 'purple', 'black']\n",
    "\n",
    "for k, c in zip(range(n_clusters), colors):\n",
    "    ax.scatter(result['PCA0'][clusters == k],\n",
    "               result['PCA1'][clusters == k],\n",
    "               result['PCA2'][clusters == k],\n",
    "               c=c, cmap=\"Set2_r\", s=60, label=k)\n",
    "\n",
    "# make simple, bare axis lines through space:\n",
    "xAxisLine = ((min(result['PCA0']), max(result['PCA0'])), (0, 0), (0,0))\n",
    "ax.plot(xAxisLine[0], xAxisLine[1], xAxisLine[2], 'r')\n",
    "yAxisLine = ((0, 0), (min(result['PCA1']), max(result['PCA1'])), (0,0))\n",
    "ax.plot(yAxisLine[0], yAxisLine[1], yAxisLine[2], 'r')\n",
    "zAxisLine = ((0, 0), (0,0), (min(result['PCA2']), max(result['PCA2'])))\n",
    "ax.plot(zAxisLine[0], zAxisLine[1], zAxisLine[2], 'r')\n",
    " \n",
    "# label the axes\n",
    "ax.set_xlabel(\"PC1\")\n",
    "ax.set_ylabel(\"PC2\")\n",
    "ax.set_zlabel(\"PC3\")\n",
    "ax.set_title(\"PCA on the encoded adult points\")\n",
    "ax.legend()\n",
    "#plt.show()"
   ]
  },
  {
   "cell_type": "code",
   "execution_count": 17,
   "metadata": {
    "scrolled": false
   },
   "outputs": [
    {
     "data": {
      "text/html": [
       "<div>\n",
       "<style scoped>\n",
       "    .dataframe tbody tr th:only-of-type {\n",
       "        vertical-align: middle;\n",
       "    }\n",
       "\n",
       "    .dataframe tbody tr th {\n",
       "        vertical-align: top;\n",
       "    }\n",
       "\n",
       "    .dataframe thead th {\n",
       "        text-align: right;\n",
       "    }\n",
       "</style>\n",
       "<table border=\"1\" class=\"dataframe\">\n",
       "  <thead>\n",
       "    <tr style=\"text-align: right;\">\n",
       "      <th></th>\n",
       "      <th>Size</th>\n",
       "      <th>Accuracy</th>\n",
       "      <th>Winner</th>\n",
       "      <th>Mean Winner Prob.</th>\n",
       "    </tr>\n",
       "  </thead>\n",
       "  <tbody>\n",
       "    <tr>\n",
       "      <th>0</th>\n",
       "      <td>9188</td>\n",
       "      <td>0.996517</td>\n",
       "      <td>False</td>\n",
       "      <td>0.995923</td>\n",
       "    </tr>\n",
       "    <tr>\n",
       "      <th>1</th>\n",
       "      <td>5218</td>\n",
       "      <td>0.729015</td>\n",
       "      <td>True</td>\n",
       "      <td>0.650724</td>\n",
       "    </tr>\n",
       "    <tr>\n",
       "      <th>2</th>\n",
       "      <td>12780</td>\n",
       "      <td>0.969327</td>\n",
       "      <td>False</td>\n",
       "      <td>0.965089</td>\n",
       "    </tr>\n",
       "    <tr>\n",
       "      <th>3</th>\n",
       "      <td>14510</td>\n",
       "      <td>0.762233</td>\n",
       "      <td>False</td>\n",
       "      <td>0.723879</td>\n",
       "    </tr>\n",
       "    <tr>\n",
       "      <th>4</th>\n",
       "      <td>2213</td>\n",
       "      <td>0.990059</td>\n",
       "      <td>True</td>\n",
       "      <td>0.983219</td>\n",
       "    </tr>\n",
       "    <tr>\n",
       "      <th>5</th>\n",
       "      <td>887</td>\n",
       "      <td>0.975197</td>\n",
       "      <td>True</td>\n",
       "      <td>0.951559</td>\n",
       "    </tr>\n",
       "    <tr>\n",
       "      <th>6</th>\n",
       "      <td>4046</td>\n",
       "      <td>0.842561</td>\n",
       "      <td>False</td>\n",
       "      <td>0.808876</td>\n",
       "    </tr>\n",
       "  </tbody>\n",
       "</table>\n",
       "</div>"
      ],
      "text/plain": [
       "    Size  Accuracy  Winner  Mean Winner Prob.\n",
       "0   9188  0.996517   False           0.995923\n",
       "1   5218  0.729015    True           0.650724\n",
       "2  12780  0.969327   False           0.965089\n",
       "3  14510  0.762233   False           0.723879\n",
       "4   2213  0.990059    True           0.983219\n",
       "5    887  0.975197    True           0.951559\n",
       "6   4046  0.842561   False           0.808876"
      ]
     },
     "metadata": {},
     "output_type": "display_data"
    },
    {
     "data": {
      "application/vnd.jupyter.widget-view+json": {
       "model_id": "850e512d91e042318498f47022b0d22b",
       "version_major": 2,
       "version_minor": 0
      },
      "text/plain": [
       "interactive(children=(BoundedIntText(value=0, description='Cluster', max=7), Dropdown(description='Column', op…"
      ]
     },
     "metadata": {},
     "output_type": "display_data"
    }
   ],
   "source": [
    "from display_cluster import display_cluster\n",
    "\n",
    "def encode_features(original):\n",
    "    return X.loc[original.index]\n",
    "\n",
    "display_cluster(boost, original, original, y, \n",
    "                leaves.astype(int),\n",
    "                clusters, n_clusters,\n",
    "                encode_features=encode_features)"
   ]
  },
  {
   "cell_type": "code",
   "execution_count": 18,
   "metadata": {},
   "outputs": [],
   "source": [
    "from display_cluster import InfluentialPaths\n",
    "paths = InfluentialPaths(boost, leaves.astype(int), X, clusters, n_clusters)"
   ]
  },
  {
   "cell_type": "code",
   "execution_count": 19,
   "metadata": {},
   "outputs": [],
   "source": [
    "def refine_interval(i, direction, threshold):\n",
    "    if i == ():\n",
    "        return ()\n",
    "    if direction == 'left':\n",
    "        return (i[0], min(threshold, i[1])) if threshold > i[0] else ()\n",
    "    # direction == 'right'\n",
    "    return (max(threshold, i[0]), i[1]) if threshold < i[1] else ()\n",
    "\n",
    "def summarize_cluster(k, n_paths):\n",
    "    s = {}\n",
    "    for rank in range(n_paths):\n",
    "        forest_path = paths[k, rank]\n",
    "        for node, feature, threshold, direction in forest_path.path:\n",
    "            if direction != None:\n",
    "                i = s[feature] if feature in s else (float('-inf'), float('inf'))\n",
    "                s[feature] = refine_interval(i, direction, threshold)\n",
    "    return s\n",
    "\n",
    "def summary_mask(s, X):\n",
    "    mask = pd.Series(np.ones(len(X), dtype=bool))\n",
    "    for feature, i in s.items():\n",
    "        if i == ():\n",
    "            return pd.Series(np.zeros(len(X), dtype=bool))\n",
    "        mask = mask & X[feature].between(i[0], i[1])\n",
    "    return mask\n",
    "\n",
    "k = 4\n",
    "n_paths = 3\n",
    "\n",
    "s = summarize_cluster(k, n_paths)\n"
   ]
  },
  {
   "cell_type": "code",
   "execution_count": 20,
   "metadata": {
    "scrolled": false
   },
   "outputs": [
    {
     "name": "stdout",
     "output_type": "stream",
     "text": [
      "0\n",
      "Summary size 26000\n",
      "Cluster size 9188\n",
      "Overlap size 9174\n",
      "Cluster to summary 0.998\n",
      "Summary to cluster 0.353\n"
     ]
    },
    {
     "data": {
      "text/plain": [
       "{'marital_status_Married-civ-spouse': (-inf, 0.5),\n",
       " 'capital_gain': (-inf, 7055.5)}"
      ]
     },
     "metadata": {},
     "output_type": "display_data"
    },
    {
     "name": "stdout",
     "output_type": "stream",
     "text": [
      "1\n",
      "Summary size 6662\n",
      "Cluster size 5218\n",
      "Overlap size 5170\n",
      "Cluster to summary 0.991\n",
      "Summary to cluster 0.776\n"
     ]
    },
    {
     "data": {
      "text/plain": [
       "{'marital_status_Married-civ-spouse': (0.5, inf), 'education_num': (12.5, inf)}"
      ]
     },
     "metadata": {},
     "output_type": "display_data"
    },
    {
     "name": "stdout",
     "output_type": "stream",
     "text": [
      "2\n",
      "Summary size 26000\n",
      "Cluster size 12780\n",
      "Overlap size 12780\n",
      "Cluster to summary 1.000\n",
      "Summary to cluster 0.492\n"
     ]
    },
    {
     "data": {
      "text/plain": [
       "{'marital_status_Married-civ-spouse': (-inf, 0.5),\n",
       " 'capital_gain': (-inf, 7055.5)}"
      ]
     },
     "metadata": {},
     "output_type": "display_data"
    },
    {
     "name": "stdout",
     "output_type": "stream",
     "text": [
      "3\n",
      "Summary size 5485\n",
      "Cluster size 14510\n",
      "Overlap size 5232\n",
      "Cluster to summary 0.361\n",
      "Summary to cluster 0.954\n"
     ]
    },
    {
     "data": {
      "text/plain": [
       "{'marital_status_Married-civ-spouse': (0.5, inf),\n",
       " 'capital_gain': (-inf, 5095.5),\n",
       " 'education_num': (9.5, 12.5)}"
      ]
     },
     "metadata": {},
     "output_type": "display_data"
    },
    {
     "name": "stdout",
     "output_type": "stream",
     "text": [
      "4\n",
      "Summary size 1776\n",
      "Cluster size 2213\n",
      "Overlap size 1751\n",
      "Cluster to summary 0.791\n",
      "Summary to cluster 0.986\n"
     ]
    },
    {
     "data": {
      "text/plain": [
       "{'marital_status_Married-civ-spouse': (0.5, inf),\n",
       " 'capital_gain': (5119.0, inf)}"
      ]
     },
     "metadata": {},
     "output_type": "display_data"
    },
    {
     "name": "stdout",
     "output_type": "stream",
     "text": [
      "5\n",
      "Summary size 1484\n",
      "Cluster size 887\n",
      "Overlap size 887\n",
      "Cluster to summary 1.000\n",
      "Summary to cluster 0.598\n"
     ]
    },
    {
     "data": {
      "text/plain": [
       "{'capital_gain': (-inf, 5119.0), 'capital_loss': (1820.5, inf)}"
      ]
     },
     "metadata": {},
     "output_type": "display_data"
    },
    {
     "name": "stdout",
     "output_type": "stream",
     "text": [
      "6\n",
      "Summary size 26000\n",
      "Cluster size 4046\n",
      "Overlap size 4046\n",
      "Cluster to summary 1.000\n",
      "Summary to cluster 0.156\n"
     ]
    },
    {
     "data": {
      "text/plain": [
       "{'marital_status_Married-civ-spouse': (-inf, 0.5),\n",
       " 'capital_gain': (-inf, 7055.5)}"
      ]
     },
     "metadata": {},
     "output_type": "display_data"
    }
   ],
   "source": [
    "lengths = [1, 1, 1, 5, 5, 1, 1, 5, 9, 3]\n",
    "ss = [summarize_cluster(i, l) for i, l in zip(range(n_clusters), lengths)]\n",
    "ts = [summary_mask(s, X) for s in ss]\n",
    "for k, s, t in zip(range(n_clusters), ss, ts):\n",
    "    print(k)    \n",
    "    m = t\n",
    "    mk = clusters == k\n",
    "    mmk = m & mk\n",
    "    print('Summary size', sum(m))\n",
    "    print('Cluster size', sum(mk))\n",
    "    print('Overlap size', sum(m & mk))\n",
    "    print('Cluster to summary %.3f' % (sum(m & mk) / sum(mk)))\n",
    "    print('Summary to cluster %.3f' % (sum(m & mk) / sum(m)))\n",
    "    display(s)"
   ]
  },
  {
   "cell_type": "code",
   "execution_count": 21,
   "metadata": {},
   "outputs": [
    {
     "data": {
      "text/plain": [
       "(48842, 38913)"
      ]
     },
     "execution_count": 21,
     "metadata": {},
     "output_type": "execute_result"
    }
   ],
   "source": [
    "X_red = pd.DataFrame({k: ts[k] for k in range(len(ts))})\n",
    "(len(ts[0]), sum(ts[0] | ts[1] | ts[2] | ts[3] | ts[4])) #  | ts[5] | ts[6] | ts[7] | ts[8] | ts[9]))"
   ]
  },
  {
   "cell_type": "code",
   "execution_count": 24,
   "metadata": {},
   "outputs": [
    {
     "name": "stdout",
     "output_type": "stream",
     "text": [
      "Test mean 0.8399795291709313\n"
     ]
    }
   ],
   "source": [
    "from sklearn.linear_model import LogisticRegression \n",
    "iterations = 20\n",
    "scores = np.zeros(iterations, dtype=float)\n",
    "for i in range(iterations):\n",
    "    X_red_train, X_red_test, y_red_train, y_red_test = train_test_split(X_red, y, test_size = 0.1)\n",
    "    forest_red = LogisticRegression(solver = 'lbfgs').fit(X_red_train, y_red_train)\n",
    "    scores[i] = forest_red.score(X_red_test, y_red_test)\n",
    "    \n",
    "print('Test mean', scores.mean())"
   ]
  },
  {
   "cell_type": "code",
   "execution_count": 25,
   "metadata": {},
   "outputs": [
    {
     "data": {
      "image/svg+xml": [
       "<?xml version=\"1.0\" encoding=\"UTF-8\" standalone=\"no\"?>\n",
       "<!DOCTYPE svg PUBLIC \"-//W3C//DTD SVG 1.1//EN\"\n",
       " \"http://www.w3.org/Graphics/SVG/1.1/DTD/svg11.dtd\">\n",
       "<!-- Generated by graphviz version 2.38.0 (20140413.2041)\n",
       " -->\n",
       "<!-- Title: Tree Pages: 1 -->\n",
       "<svg width=\"712pt\" height=\"314pt\"\n",
       " viewBox=\"0.00 0.00 712.00 314.00\" xmlns=\"http://www.w3.org/2000/svg\" xmlns:xlink=\"http://www.w3.org/1999/xlink\">\n",
       "<g id=\"graph0\" class=\"graph\" transform=\"scale(1 1) rotate(0) translate(4 310)\">\n",
       "<title>Tree</title>\n",
       "<polygon fill=\"white\" stroke=\"none\" points=\"-4,4 -4,-310 708,-310 708,4 -4,4\"/>\n",
       "<!-- 0 -->\n",
       "<g id=\"node1\" class=\"node\"><title>0</title>\n",
       "<path fill=\"#e58139\" fill-opacity=\"0.576471\" stroke=\"black\" d=\"M417,-306C417,-306 286,-306 286,-306 280,-306 274,-300 274,-294 274,-294 274,-235 274,-235 274,-229 280,-223 286,-223 286,-223 417,-223 417,-223 423,-223 429,-229 429,-235 429,-235 429,-294 429,-294 429,-300 423,-306 417,-306\"/>\n",
       "<text text-anchor=\"middle\" x=\"351.5\" y=\"-290.8\" font-family=\"Helvetica,sans-Serif\" font-size=\"14.00\">node #0</text>\n",
       "<text text-anchor=\"middle\" x=\"351.5\" y=\"-275.8\" font-family=\"Helvetica,sans-Serif\" font-size=\"14.00\">country_Mexico &lt;= 0.5</text>\n",
       "<text text-anchor=\"middle\" x=\"351.5\" y=\"-260.8\" font-family=\"Helvetica,sans-Serif\" font-size=\"14.00\">friedman_mse = 0.086</text>\n",
       "<text text-anchor=\"middle\" x=\"351.5\" y=\"-245.8\" font-family=\"Helvetica,sans-Serif\" font-size=\"14.00\">samples = 43957</text>\n",
       "<text text-anchor=\"middle\" x=\"351.5\" y=\"-230.8\" font-family=\"Helvetica,sans-Serif\" font-size=\"14.00\">value = &#45;0.0</text>\n",
       "</g>\n",
       "<!-- 1 -->\n",
       "<g id=\"node2\" class=\"node\"><title>1</title>\n",
       "<path fill=\"#e58139\" fill-opacity=\"0.576471\" stroke=\"black\" d=\"M362,-187C362,-187 95,-187 95,-187 89,-187 83,-181 83,-175 83,-175 83,-116 83,-116 83,-110 89,-104 95,-104 95,-104 362,-104 362,-104 368,-104 374,-110 374,-116 374,-116 374,-175 374,-175 374,-181 368,-187 362,-187\"/>\n",
       "<text text-anchor=\"middle\" x=\"228.5\" y=\"-171.8\" font-family=\"Helvetica,sans-Serif\" font-size=\"14.00\">node #1</text>\n",
       "<text text-anchor=\"middle\" x=\"228.5\" y=\"-156.8\" font-family=\"Helvetica,sans-Serif\" font-size=\"14.00\">marital_status_Married&#45;spouse&#45;absent &lt;= 0.5</text>\n",
       "<text text-anchor=\"middle\" x=\"228.5\" y=\"-141.8\" font-family=\"Helvetica,sans-Serif\" font-size=\"14.00\">friedman_mse = 0.087</text>\n",
       "<text text-anchor=\"middle\" x=\"228.5\" y=\"-126.8\" font-family=\"Helvetica,sans-Serif\" font-size=\"14.00\">samples = 43106</text>\n",
       "<text text-anchor=\"middle\" x=\"228.5\" y=\"-111.8\" font-family=\"Helvetica,sans-Serif\" font-size=\"14.00\">value = 0.0</text>\n",
       "</g>\n",
       "<!-- 0&#45;&gt;1 -->\n",
       "<g id=\"edge1\" class=\"edge\"><title>0&#45;&gt;1</title>\n",
       "<path fill=\"none\" stroke=\"black\" d=\"M308.826,-222.907C298.999,-213.56 288.463,-203.538 278.361,-193.929\"/>\n",
       "<polygon fill=\"black\" stroke=\"black\" points=\"280.757,-191.377 271.099,-187.021 275.932,-196.449 280.757,-191.377\"/>\n",
       "<text text-anchor=\"middle\" x=\"271.724\" y=\"-208.313\" font-family=\"Helvetica,sans-Serif\" font-size=\"14.00\">True</text>\n",
       "</g>\n",
       "<!-- 4 -->\n",
       "<g id=\"node5\" class=\"node\"><title>4</title>\n",
       "<path fill=\"#e58139\" fill-opacity=\"0.568627\" stroke=\"black\" d=\"M547.5,-187C547.5,-187 403.5,-187 403.5,-187 397.5,-187 391.5,-181 391.5,-175 391.5,-175 391.5,-116 391.5,-116 391.5,-110 397.5,-104 403.5,-104 403.5,-104 547.5,-104 547.5,-104 553.5,-104 559.5,-110 559.5,-116 559.5,-116 559.5,-175 559.5,-175 559.5,-181 553.5,-187 547.5,-187\"/>\n",
       "<text text-anchor=\"middle\" x=\"475.5\" y=\"-171.8\" font-family=\"Helvetica,sans-Serif\" font-size=\"14.00\">node #4</text>\n",
       "<text text-anchor=\"middle\" x=\"475.5\" y=\"-156.8\" font-family=\"Helvetica,sans-Serif\" font-size=\"14.00\">workclass_Private &lt;= 0.5</text>\n",
       "<text text-anchor=\"middle\" x=\"475.5\" y=\"-141.8\" font-family=\"Helvetica,sans-Serif\" font-size=\"14.00\">friedman_mse = 0.029</text>\n",
       "<text text-anchor=\"middle\" x=\"475.5\" y=\"-126.8\" font-family=\"Helvetica,sans-Serif\" font-size=\"14.00\">samples = 851</text>\n",
       "<text text-anchor=\"middle\" x=\"475.5\" y=\"-111.8\" font-family=\"Helvetica,sans-Serif\" font-size=\"14.00\">value = &#45;0.006</text>\n",
       "</g>\n",
       "<!-- 0&#45;&gt;4 -->\n",
       "<g id=\"edge4\" class=\"edge\"><title>0&#45;&gt;4</title>\n",
       "<path fill=\"none\" stroke=\"black\" d=\"M394.521,-222.907C404.428,-213.56 415.05,-203.538 425.234,-193.929\"/>\n",
       "<polygon fill=\"black\" stroke=\"black\" points=\"427.683,-196.429 432.555,-187.021 422.879,-191.338 427.683,-196.429\"/>\n",
       "<text text-anchor=\"middle\" x=\"431.829\" y=\"-208.31\" font-family=\"Helvetica,sans-Serif\" font-size=\"14.00\">False</text>\n",
       "</g>\n",
       "<!-- 2 -->\n",
       "<g id=\"node3\" class=\"node\"><title>2</title>\n",
       "<path fill=\"#e58139\" fill-opacity=\"0.576471\" stroke=\"black\" d=\"M141,-68C141,-68 12,-68 12,-68 6,-68 0,-62 0,-56 0,-56 0,-12 0,-12 0,-6 6,-0 12,-0 12,-0 141,-0 141,-0 147,-0 153,-6 153,-12 153,-12 153,-56 153,-56 153,-62 147,-68 141,-68\"/>\n",
       "<text text-anchor=\"middle\" x=\"76.5\" y=\"-52.8\" font-family=\"Helvetica,sans-Serif\" font-size=\"14.00\">node #2</text>\n",
       "<text text-anchor=\"middle\" x=\"76.5\" y=\"-37.8\" font-family=\"Helvetica,sans-Serif\" font-size=\"14.00\">friedman_mse = 0.087</text>\n",
       "<text text-anchor=\"middle\" x=\"76.5\" y=\"-22.8\" font-family=\"Helvetica,sans-Serif\" font-size=\"14.00\">samples = 42594</text>\n",
       "<text text-anchor=\"middle\" x=\"76.5\" y=\"-7.8\" font-family=\"Helvetica,sans-Serif\" font-size=\"14.00\">value = 0.0</text>\n",
       "</g>\n",
       "<!-- 1&#45;&gt;2 -->\n",
       "<g id=\"edge2\" class=\"edge\"><title>1&#45;&gt;2</title>\n",
       "<path fill=\"none\" stroke=\"black\" d=\"M171.901,-103.726C158.48,-94.0582 144.195,-83.767 130.876,-74.172\"/>\n",
       "<polygon fill=\"black\" stroke=\"black\" points=\"132.884,-71.305 122.724,-68.2996 128.792,-76.9846 132.884,-71.305\"/>\n",
       "</g>\n",
       "<!-- 3 -->\n",
       "<g id=\"node4\" class=\"node\"><title>3</title>\n",
       "<path fill=\"#e58139\" fill-opacity=\"0.890196\" stroke=\"black\" d=\"M312,-68C312,-68 183,-68 183,-68 177,-68 171,-62 171,-56 171,-56 171,-12 171,-12 171,-6 177,-0 183,-0 183,-0 312,-0 312,-0 318,-0 324,-6 324,-12 324,-12 324,-56 324,-56 324,-62 318,-68 312,-68\"/>\n",
       "<text text-anchor=\"middle\" x=\"247.5\" y=\"-52.8\" font-family=\"Helvetica,sans-Serif\" font-size=\"14.00\">node #3</text>\n",
       "<text text-anchor=\"middle\" x=\"247.5\" y=\"-37.8\" font-family=\"Helvetica,sans-Serif\" font-size=\"14.00\">friedman_mse = 0.054</text>\n",
       "<text text-anchor=\"middle\" x=\"247.5\" y=\"-22.8\" font-family=\"Helvetica,sans-Serif\" font-size=\"14.00\">samples = 512</text>\n",
       "<text text-anchor=\"middle\" x=\"247.5\" y=\"-7.8\" font-family=\"Helvetica,sans-Serif\" font-size=\"14.00\">value = 0.158</text>\n",
       "</g>\n",
       "<!-- 1&#45;&gt;3 -->\n",
       "<g id=\"edge3\" class=\"edge\"><title>1&#45;&gt;3</title>\n",
       "<path fill=\"none\" stroke=\"black\" d=\"M235.575,-103.726C237.015,-95.4263 238.535,-86.6671 239.99,-78.2834\"/>\n",
       "<polygon fill=\"black\" stroke=\"black\" points=\"243.461,-78.7508 241.722,-68.2996 236.564,-77.554 243.461,-78.7508\"/>\n",
       "</g>\n",
       "<!-- 5 -->\n",
       "<g id=\"node6\" class=\"node\"><title>5</title>\n",
       "<path fill=\"#e58139\" stroke=\"black\" d=\"M521,-68C521,-68 392,-68 392,-68 386,-68 380,-62 380,-56 380,-56 380,-12 380,-12 380,-6 386,-0 392,-0 392,-0 521,-0 521,-0 527,-0 533,-6 533,-12 533,-12 533,-56 533,-56 533,-62 527,-68 521,-68\"/>\n",
       "<text text-anchor=\"middle\" x=\"456.5\" y=\"-52.8\" font-family=\"Helvetica,sans-Serif\" font-size=\"14.00\">node #5</text>\n",
       "<text text-anchor=\"middle\" x=\"456.5\" y=\"-37.8\" font-family=\"Helvetica,sans-Serif\" font-size=\"14.00\">friedman_mse = 0.048</text>\n",
       "<text text-anchor=\"middle\" x=\"456.5\" y=\"-22.8\" font-family=\"Helvetica,sans-Serif\" font-size=\"14.00\">samples = 123</text>\n",
       "<text text-anchor=\"middle\" x=\"456.5\" y=\"-7.8\" font-family=\"Helvetica,sans-Serif\" font-size=\"14.00\">value = 0.215</text>\n",
       "</g>\n",
       "<!-- 4&#45;&gt;5 -->\n",
       "<g id=\"edge5\" class=\"edge\"><title>4&#45;&gt;5</title>\n",
       "<path fill=\"none\" stroke=\"black\" d=\"M468.425,-103.726C466.985,-95.4263 465.465,-86.6671 464.01,-78.2834\"/>\n",
       "<polygon fill=\"black\" stroke=\"black\" points=\"467.436,-77.554 462.278,-68.2996 460.539,-78.7508 467.436,-77.554\"/>\n",
       "</g>\n",
       "<!-- 6 -->\n",
       "<g id=\"node7\" class=\"node\"><title>6</title>\n",
       "<path fill=\"none\" stroke=\"black\" d=\"M692,-68C692,-68 563,-68 563,-68 557,-68 551,-62 551,-56 551,-56 551,-12 551,-12 551,-6 557,-0 563,-0 563,-0 692,-0 692,-0 698,-0 704,-6 704,-12 704,-12 704,-56 704,-56 704,-62 698,-68 692,-68\"/>\n",
       "<text text-anchor=\"middle\" x=\"627.5\" y=\"-52.8\" font-family=\"Helvetica,sans-Serif\" font-size=\"14.00\">node #6</text>\n",
       "<text text-anchor=\"middle\" x=\"627.5\" y=\"-37.8\" font-family=\"Helvetica,sans-Serif\" font-size=\"14.00\">friedman_mse = 0.026</text>\n",
       "<text text-anchor=\"middle\" x=\"627.5\" y=\"-22.8\" font-family=\"Helvetica,sans-Serif\" font-size=\"14.00\">samples = 728</text>\n",
       "<text text-anchor=\"middle\" x=\"627.5\" y=\"-7.8\" font-family=\"Helvetica,sans-Serif\" font-size=\"14.00\">value = &#45;0.294</text>\n",
       "</g>\n",
       "<!-- 4&#45;&gt;6 -->\n",
       "<g id=\"edge6\" class=\"edge\"><title>4&#45;&gt;6</title>\n",
       "<path fill=\"none\" stroke=\"black\" d=\"M532.099,-103.726C545.52,-94.0582 559.805,-83.767 573.124,-74.172\"/>\n",
       "<polygon fill=\"black\" stroke=\"black\" points=\"575.208,-76.9846 581.276,-68.2996 571.116,-71.305 575.208,-76.9846\"/>\n",
       "</g>\n",
       "</g>\n",
       "</svg>\n"
      ],
      "text/plain": [
       "<graphviz.files.Source at 0x7f9f261ddac8>"
      ]
     },
     "execution_count": 25,
     "metadata": {},
     "output_type": "execute_result"
    }
   ],
   "source": [
    "# The paths tends to have a lot of redundancy in terms\n",
    "# of classification behavior\n",
    "\n",
    "from sklearn.tree import export_graphviz\n",
    "import graphviz\n",
    "\n",
    "dot_data = export_graphviz(boost.estimators_[799, 0],\n",
    "                           feature_names = X_test.columns,\n",
    "                           out_file = None, filled = True,\n",
    "                           rounded = True, node_ids = True)\n",
    "graph = graphviz.Source(dot_data)\n",
    "graph"
   ]
  },
  {
   "cell_type": "code",
   "execution_count": 26,
   "metadata": {},
   "outputs": [],
   "source": [
    "# Greedy path clustering\n",
    "\n",
    "from display_cluster import InfluentialPaths\n",
    "\n",
    "mclusters = np.zeros(len(X))\n",
    "leaves = boost.apply(X).reshape((len(X), boost.n_estimators)).astype(int)\n",
    "r = np.ones(len(X), dtype=bool)\n",
    "n_clusters = 5\n",
    "\n",
    "for k in range(n_clusters - 1):\n",
    "    paths = InfluentialPaths(boost, leaves[r], X[r], np.zeros(sum(r)), 1)\n",
    "    p = paths[0, 0]\n",
    "    c = leaves[:,p.tree] == p.first_node\n",
    "    t = np.logical_and(r, c)\n",
    "    r = np.logical_and(r, c == False)\n",
    "    mclusters = mclusters + k * t\n",
    "    \n",
    "mclusters = mclusters + (n_clusters - 1) * r"
   ]
  },
  {
   "cell_type": "code",
   "execution_count": 27,
   "metadata": {},
   "outputs": [
    {
     "name": "stdout",
     "output_type": "stream",
     "text": [
      "47\n",
      "12780\n",
      "999\n",
      "14\n",
      "9174\n"
     ]
    }
   ],
   "source": [
    "print(sum((mclusters == 2) & (clusters == 1)))\n",
    "print(sum((mclusters == 0) & (clusters == 2)))\n",
    "print(sum((mclusters == 1) & (clusters == 4)))\n",
    "print(sum((mclusters == 3) & (clusters == 3)))\n",
    "print(sum((mclusters == 0) & (clusters == 0)))"
   ]
  },
  {
   "cell_type": "code",
   "execution_count": 28,
   "metadata": {},
   "outputs": [
    {
     "data": {
      "text/html": [
       "<div>\n",
       "<style scoped>\n",
       "    .dataframe tbody tr th:only-of-type {\n",
       "        vertical-align: middle;\n",
       "    }\n",
       "\n",
       "    .dataframe tbody tr th {\n",
       "        vertical-align: top;\n",
       "    }\n",
       "\n",
       "    .dataframe thead th {\n",
       "        text-align: right;\n",
       "    }\n",
       "</style>\n",
       "<table border=\"1\" class=\"dataframe\">\n",
       "  <thead>\n",
       "    <tr style=\"text-align: right;\">\n",
       "      <th></th>\n",
       "      <th>Size</th>\n",
       "      <th>Accuracy</th>\n",
       "      <th>Winner</th>\n",
       "      <th>Mean Winner Prob.</th>\n",
       "    </tr>\n",
       "  </thead>\n",
       "  <tbody>\n",
       "    <tr>\n",
       "      <th>0</th>\n",
       "      <td>26000</td>\n",
       "      <td>0.959192</td>\n",
       "      <td>False</td>\n",
       "      <td>0.951659</td>\n",
       "    </tr>\n",
       "    <tr>\n",
       "      <th>1</th>\n",
       "      <td>6662</td>\n",
       "      <td>0.788352</td>\n",
       "      <td>True</td>\n",
       "      <td>0.726492</td>\n",
       "    </tr>\n",
       "    <tr>\n",
       "      <th>2</th>\n",
       "      <td>14951</td>\n",
       "      <td>0.767574</td>\n",
       "      <td>False</td>\n",
       "      <td>0.706250</td>\n",
       "    </tr>\n",
       "    <tr>\n",
       "      <th>3</th>\n",
       "      <td>766</td>\n",
       "      <td>0.983029</td>\n",
       "      <td>True</td>\n",
       "      <td>0.970201</td>\n",
       "    </tr>\n",
       "    <tr>\n",
       "      <th>4</th>\n",
       "      <td>463</td>\n",
       "      <td>0.978402</td>\n",
       "      <td>True</td>\n",
       "      <td>0.965498</td>\n",
       "    </tr>\n",
       "  </tbody>\n",
       "</table>\n",
       "</div>"
      ],
      "text/plain": [
       "    Size  Accuracy  Winner  Mean Winner Prob.\n",
       "0  26000  0.959192   False           0.951659\n",
       "1   6662  0.788352    True           0.726492\n",
       "2  14951  0.767574   False           0.706250\n",
       "3    766  0.983029    True           0.970201\n",
       "4    463  0.978402    True           0.965498"
      ]
     },
     "metadata": {},
     "output_type": "display_data"
    },
    {
     "data": {
      "application/vnd.jupyter.widget-view+json": {
       "model_id": "e40a13bfa1164a89bca5535e487fe17f",
       "version_major": 2,
       "version_minor": 0
      },
      "text/plain": [
       "interactive(children=(BoundedIntText(value=0, description='Cluster', max=5), Dropdown(description='Column', op…"
      ]
     },
     "metadata": {},
     "output_type": "display_data"
    }
   ],
   "source": [
    "display_cluster(boost, original, original, y, \n",
    "                leaves, mclusters, n_clusters,\n",
    "                encode_features=encode_features)"
   ]
  },
  {
   "cell_type": "code",
   "execution_count": 31,
   "metadata": {},
   "outputs": [],
   "source": [
    "from display_cluster import InfluentialPaths\n",
    "paths = InfluentialPaths(boost, leaves.astype(int), X, mclusters, n_clusters)"
   ]
  },
  {
   "cell_type": "code",
   "execution_count": 32,
   "metadata": {},
   "outputs": [],
   "source": [
    "k = 4\n",
    "n_paths = 3\n",
    "\n",
    "s = summarize_cluster(k, n_paths)"
   ]
  },
  {
   "cell_type": "code",
   "execution_count": 33,
   "metadata": {},
   "outputs": [
    {
     "name": "stdout",
     "output_type": "stream",
     "text": [
      "0\n",
      "Summary size 26000\n",
      "Cluster size 26000\n",
      "Overlap size 26000\n",
      "Cluster to summary 1.000\n",
      "Summary to cluster 1.000\n"
     ]
    },
    {
     "data": {
      "text/plain": [
       "{'marital_status_Married-civ-spouse': (-inf, 0.5),\n",
       " 'capital_gain': (-inf, 7055.5)}"
      ]
     },
     "metadata": {},
     "output_type": "display_data"
    },
    {
     "name": "stdout",
     "output_type": "stream",
     "text": [
      "1\n",
      "Summary size 6662\n",
      "Cluster size 6662\n",
      "Overlap size 6662\n",
      "Cluster to summary 1.000\n",
      "Summary to cluster 1.000\n"
     ]
    },
    {
     "data": {
      "text/plain": [
       "{'marital_status_Married-civ-spouse': (0.5, inf), 'education_num': (12.5, inf)}"
      ]
     },
     "metadata": {},
     "output_type": "display_data"
    },
    {
     "name": "stdout",
     "output_type": "stream",
     "text": [
      "2\n",
      "Summary size 20603\n",
      "Cluster size 14951\n",
      "Overlap size 14951\n",
      "Cluster to summary 1.000\n",
      "Summary to cluster 0.726\n"
     ]
    },
    {
     "data": {
      "text/plain": [
       "{'marital_status_Married-civ-spouse': (0.5, inf),\n",
       " 'capital_gain': (-inf, 5095.5)}"
      ]
     },
     "metadata": {},
     "output_type": "display_data"
    },
    {
     "name": "stdout",
     "output_type": "stream",
     "text": [
      "3\n",
      "Summary size 1776\n",
      "Cluster size 766\n",
      "Overlap size 766\n",
      "Cluster to summary 1.000\n",
      "Summary to cluster 0.431\n"
     ]
    },
    {
     "data": {
      "text/plain": [
       "{'marital_status_Married-civ-spouse': (0.5, inf),\n",
       " 'capital_gain': (5119.0, inf)}"
      ]
     },
     "metadata": {},
     "output_type": "display_data"
    },
    {
     "name": "stdout",
     "output_type": "stream",
     "text": [
      "4\n",
      "Summary size 433\n",
      "Cluster size 463\n",
      "Overlap size 433\n",
      "Cluster to summary 0.935\n",
      "Summary to cluster 1.000\n"
     ]
    },
    {
     "data": {
      "text/plain": [
       "{'marital_status_Married-civ-spouse': (-inf, 0.5),\n",
       " 'capital_gain': (8296.0, inf)}"
      ]
     },
     "metadata": {},
     "output_type": "display_data"
    }
   ],
   "source": [
    "lengths = [1, 1, 1, 5, 5, 1, 1, 5, 9, 3]\n",
    "ss = [summarize_cluster(i, l) for i, l in zip(range(n_clusters), lengths)]\n",
    "ts = [summary_mask(s, X) for s in ss]\n",
    "for k, s, t in zip(range(n_clusters), ss, ts):\n",
    "    print(k)    \n",
    "    m = t\n",
    "    mk = mclusters == k\n",
    "    mmk = m & mk\n",
    "    print('Summary size', sum(m))\n",
    "    print('Cluster size', sum(mk))\n",
    "    print('Overlap size', sum(m & mk))\n",
    "    print('Cluster to summary %.3f' % (sum(m & mk) / sum(mk)))\n",
    "    print('Summary to cluster %.3f' % (sum(m & mk) / sum(m)))\n",
    "    display(s)"
   ]
  },
  {
   "cell_type": "code",
   "execution_count": 34,
   "metadata": {},
   "outputs": [
    {
     "name": "stdout",
     "output_type": "stream",
     "text": [
      "Test mean 0.8395598771750257\n"
     ]
    }
   ],
   "source": [
    "from sklearn.linear_model import LogisticRegression \n",
    "iterations = 20\n",
    "scores = np.zeros(iterations, dtype=float)\n",
    "for i in range(iterations):\n",
    "    X_red_train, X_red_test, y_red_train, y_red_test = train_test_split(X_red, y, test_size = 0.1)\n",
    "    forest_red = LogisticRegression(solver = 'lbfgs').fit(X_red_train, y_red_train)\n",
    "    scores[i] = forest_red.score(X_red_test, y_red_test)\n",
    "    \n",
    "print('Test mean', scores.mean())"
   ]
  },
  {
   "cell_type": "code",
   "execution_count": null,
   "metadata": {},
   "outputs": [],
   "source": []
  }
 ],
 "metadata": {
  "kernelspec": {
   "display_name": "Python 3",
   "language": "python",
   "name": "python3"
  },
  "language_info": {
   "codemirror_mode": {
    "name": "ipython",
    "version": 3
   },
   "file_extension": ".py",
   "mimetype": "text/x-python",
   "name": "python",
   "nbconvert_exporter": "python",
   "pygments_lexer": "ipython3",
   "version": "3.6.7"
  }
 },
 "nbformat": 4,
 "nbformat_minor": 2
}
